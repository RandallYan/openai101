{
 "cells": [
  {
   "cell_type": "code",
   "execution_count": 4,
   "id": "f31bc072-34f1-4f3d-ac88-a26513032360",
   "metadata": {},
   "outputs": [],
   "source": [
    "# import openai\n",
    "# import os\n",
    "\n",
    "# openai.api_key = os.environ.get(\"OPENAI_API_KEY\")\n",
    "# COMPLETION_MODEL = \"text-davinci-003\"\n",
    "\n",
    "# prompt = '请你用朋友的语气回复给到客户，并称他为“亲”，他的订单已经发货在路上了，预计在3天之内会送达，订单号2021AEDG，我们很抱歉因为天气的原因物流时间比原来长，感谢他选购我们的商品。'\n",
    "\n",
    "# def get_response(prompt, temperature = 1.0):\n",
    "#     completions = openai.Completion.create (\n",
    "#         engine=COMPLETION_MODEL,\n",
    "#         prompt=prompt,\n",
    "#         max_tokens=1024,\n",
    "#         n=1,\n",
    "#         stop=None,\n",
    "#         temperature=temperature,\n",
    "#     )\n",
    "#     message = completions.choices[0].text\n",
    "#     return message\n",
    "\n",
    "import utils\n",
    "\n",
    "# prompt = '''请你用朋友的语气回复给到客户，并称他为“亲”，他的订单已经发货在路上了，预计在3天之内会送达.\n",
    "# 订单号2021AEDG.我们很抱歉因为天气的原因物流时间比原来长，感谢他选购我们的商品。'''\n",
    "\n",
    "# print(utils.create(model=\"gpt-3.5-turbo\", prompt=prompt, temperature=2.0))"
   ]
  },
  {
   "cell_type": "code",
   "execution_count": 3,
   "id": "6ecc58f9-d067-4085-bed0-ceb1c42d25a6",
   "metadata": {},
   "outputs": [
    {
     "name": "stdout",
     "output_type": "stream",
     "text": [
      "鱼香肉丝的做法：将猪肉切成丝，加入淀粉和酱油腌制；将青椒、红椒、葱姜蒜切成丝备用；锅中倒油，加入葱姜蒜爆香，加入肉丝煸炒至变色，加入青红椒丝翻炒，加入豆瓣酱、甜面酱、醋、糖、盐、鸡精、水淀粉烧开，最后淋上香油即可。\n"
     ]
    }
   ],
   "source": [
    "\n",
    "prompt =  \"\"\"\n",
    "Q : 鱼香肉丝怎么做？\n",
    "A : \n",
    "\"\"\"\n",
    "print(utils.create(model=\"gpt-3.5-turbo\", prompt=prompt))\n"
   ]
  },
  {
   "cell_type": "code",
   "execution_count": 7,
   "id": "5350b3db-7db4-4a26-9b40-59cb47f54557",
   "metadata": {},
   "outputs": [
    {
     "name": "stdout",
     "output_type": "stream",
     "text": [
      "1.准备好食材：500克牛肉，1个洋葱，1个青椒，1个红椒，2勺蚝油，1勺生抽，1勺料酒，适量盐、糖、胡椒粉、水淀粉。\n",
      "2.将牛肉切成薄片，加入料酒、盐、糖、胡椒粉，抓匀腌制10分钟。\n",
      "3.将洋葱、青红椒洗净，切成丝备用。\n",
      "4.热锅凉油，将腌制好的牛肉放入锅中煸炒至变色，盛出备用。\n",
      "5.锅中留底油，加入洋葱煸炒至变软，加入青红椒继续煸炒。\n",
      "6.将煸炒好的牛肉放入锅中，加入蚝油、生抽，翻炒均匀。\n",
      "7.加入适量水淀粉勾芡，翻炒均匀即可。\n"
     ]
    }
   ],
   "source": [
    "\n",
    "prompt =  \"\"\"\n",
    "Q : 鱼香肉丝怎么做？\n",
    "A : \n",
    "1.准备好食材：500克猪里脊肉，2个青椒，2个红椒，1个洋葱，2勺蒜蓉，3勺白糖，适量料酒，半勺盐，2勺生抽，2勺酱油，2勺醋，少许花椒粉，半勺老抽，适量水淀粉。\n",
    "2.将猪里脊肉洗净，沥干水分，放入料酒、盐，抓捏抓匀，腌制20分钟。\n",
    "3.将青红椒洗净，切成丝，洋葱洗净，切成葱花，蒜末拌入小苏打水中腌制。\n",
    "4.将猪里脊肉切成丝，放入锅中，加入洋葱，炒制至断生，加入青红椒，炒匀，加入腌制好的蒜末，炒制至断生。\n",
    "5.将白糖、生抽、酱油、醋、花椒粉、老抽、水淀粉倒入锅中，翻炒匀，用小火收汁，调味即可。\n",
    "\n",
    "Q : 那蚝油牛肉呢？\n",
    "A : \n",
    "\"\"\"\n",
    "print(utils.create(model=\"gpt-3.5-turbo\", prompt=prompt))\n"
   ]
  },
  {
   "cell_type": "code",
   "execution_count": null,
   "id": "c328499f-4834-432b-b42f-108b970c2199",
   "metadata": {},
   "outputs": [],
   "source": [
    "\n",
    "import openai\n",
    "import os\n",
    "\n",
    "openai.api_key = os.environ[\"OPENAI_API_KEY\"]\n",
    "\n",
    "def ask_gpt3(prompt):\n",
    "    response = openai.Completion.create(\n",
    "        engine=\"text-davinci-003\",\n",
    "        prompt=prompt,\n",
    "        max_tokens=512,\n",
    "        n=1,\n",
    "        stop=None,\n",
    "        temperature=0.5,\n",
    "    )\n",
    "\n",
    "    message = response.choices[0].text.strip()\n",
    "    return message\n",
    "\n",
    "print(\"你好，我是一个聊天机器人，请你提出你的问题吧?\")\n",
    "\n",
    "questions = []\n",
    "answers = []\n",
    "\n",
    "def generate_prompt(prompt, questions, answers):\n",
    "    num = len(answers)\n",
    "    for i in range(num):\n",
    "        prompt += \"\\n Q : \" + questions[i]\n",
    "        prompt += \"\\n A : \" + answers[i]\n",
    "    prompt += \"\\n Q : \" + questions[num] + \"\\n A : \"        \n",
    "    return prompt\n",
    "\n",
    "while True:\n",
    "    user_input = input(\"> \")\n",
    "    questions.append(user_input)\n",
    "    if user_input.lower() in [\"bye\", \"goodbye\", \"exit\"]:\n",
    "        print(\"Goodbye!\")\n",
    "        break\n",
    "    \n",
    "    prompt = generate_prompt(\"\", questions, answers)\n",
    "\n",
    "    answer = ask_gpt3(prompt)\n",
    "    print(answer)\n",
    "    answers.append(answer)"
   ]
  }
 ],
 "metadata": {
  "kernelspec": {
   "display_name": "Python 3 (ipykernel)",
   "language": "python",
   "name": "python3"
  },
  "language_info": {
   "codemirror_mode": {
    "name": "ipython",
    "version": 3
   },
   "file_extension": ".py",
   "mimetype": "text/x-python",
   "name": "python",
   "nbconvert_exporter": "python",
   "pygments_lexer": "ipython3",
   "version": "3.10.9"
  }
 },
 "nbformat": 4,
 "nbformat_minor": 5
}
